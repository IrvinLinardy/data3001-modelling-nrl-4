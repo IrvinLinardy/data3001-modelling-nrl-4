{
 "cells": [
  {
   "cell_type": "code",
   "execution_count": 2,
   "id": "9bff393c-a099-42ab-afa6-b29bce1cbb42",
   "metadata": {},
   "outputs": [],
   "source": [
    "import pandas as pd\n",
    "import matplotlib.pyplot as plt\n",
    "import seaborn as sns\n",
    "import numpy as np"
   ]
  },
  {
   "cell_type": "code",
   "execution_count": 4,
   "id": "54b9d679-0fd2-4e6e-b54b-f7971eb4c56b",
   "metadata": {},
   "outputs": [],
   "source": [
    "ptb_data = pd.read_csv('ptb_data.csv')"
   ]
  },
  {
   "cell_type": "markdown",
   "id": "e31e29b1-cc80-4edd-84da-ef9e6701a028",
   "metadata": {},
   "source": [
    "# Removing Outliers in PTB Speed"
   ]
  },
  {
   "cell_type": "code",
   "execution_count": 20,
   "id": "94d3a725-4a73-4d83-8389-1bb839b11174",
   "metadata": {},
   "outputs": [],
   "source": [
    "Q1 = ptb_data['DurationSecs'].quantile(0.25)\n",
    "Q3 = ptb_data['DurationSecs'].quantile(0.75)\n",
    "IQR = Q3 - Q1\n",
    "lower_bound = Q1 - 1.5 * IQR\n",
    "upper_bound = Q3 + 1.5 * IQR\n",
    "ptb_data = ptb_data[(ptb_data['DurationSecs'] >= lower_bound) & (ptb_data['DurationSecs'] <= upper_bound)]"
   ]
  },
  {
   "cell_type": "markdown",
   "id": "4eda2e9b-e5ad-4103-9595-4a97572ca5f4",
   "metadata": {},
   "source": [
    "# Final data setup"
   ]
  },
  {
   "cell_type": "code",
   "execution_count": 88,
   "id": "f20f1473-6936-41f0-b81b-3951a1fff822",
   "metadata": {},
   "outputs": [
    {
     "name": "stdout",
     "output_type": "stream",
     "text": [
      "<class 'pandas.core.frame.DataFrame'>\n",
      "Index: 109805 entries, 0 to 112026\n",
      "Data columns (total 62 columns):\n",
      " #   Column                                             Non-Null Count   Dtype  \n",
      "---  ------                                             --------------   -----  \n",
      " 0   DurationSecs                                       109805 non-null  float64\n",
      " 1   PossessionSecs                                     109805 non-null  float64\n",
      " 2   Set Type                                           109805 non-null  int64  \n",
      " 3   Total Involved Tacklers                            109805 non-null  float64\n",
      " 4   RoundId                                            109805 non-null  int64  \n",
      " 5   RunOn                                              109805 non-null  int64  \n",
      " 6   Score                                              109805 non-null  float64\n",
      " 7   ZonePossession                                     109805 non-null  int64  \n",
      " 8   GameTime                                           109805 non-null  float64\n",
      " 9   IsHome                                             109805 non-null  int64  \n",
      " 10  CurrentMargin                                      109805 non-null  float64\n",
      " 11  WeatherConditionName_Rain                          109805 non-null  int32  \n",
      " 12  WeatherConditionName_Showers                       109805 non-null  int32  \n",
      " 13  WeatherConditionName_Snow                          109805 non-null  int32  \n",
      " 14  WeatherConditionName_Unknown                       109805 non-null  int32  \n",
      " 15  Club Id_1d6cd83892ee4afdcd8ccd94f817b4a6           109805 non-null  int32  \n",
      " 16  Club Id_1d6cd83892ee4afdcd8ccd94f81ftnjhl3s        109805 non-null  int32  \n",
      " 17  Club Id_367ef61d2bc259e608027a8d349c933e           109805 non-null  int32  \n",
      " 18  Club Id_3b26834df063f9d51de216a07ec36929           109805 non-null  int32  \n",
      " 19  Club Id_58485e3acf60682c8fc37d9d521b3019           109805 non-null  int32  \n",
      " 20  Club Id_5e03a19f4d014a2220665cfd56522d35           109805 non-null  int32  \n",
      " 21  Club Id_837e03d56b4dba3b8a4a5425c0420abd           109805 non-null  int32  \n",
      " 22  Club Id_980c9c368ae4f1129ea0a6fdd711fa8f           109805 non-null  int32  \n",
      " 23  Club Id_a73752d38e4a78e3e14917f5435ffb6d           109805 non-null  int32  \n",
      " 24  Club Id_b53920c88e4eebf2faa9f4fb43b8944a           109805 non-null  int32  \n",
      " 25  Club Id_c03196722c1a837b39f79f1714db475d           109805 non-null  int32  \n",
      " 26  Club Id_c14e0139ad91a9741a5731a596aa6549           109805 non-null  int32  \n",
      " 27  Club Id_d3ac47d424b41fd738ec9500dbda2d59           109805 non-null  int32  \n",
      " 28  Club Id_dc3c7bd8148814b7c4105841baa68e23           109805 non-null  int32  \n",
      " 29  Club Id_f38f7f087f646c38c0207f1b2af32f12           109805 non-null  int32  \n",
      " 30  Club Id_fdfcde48e2cbf12cc4710a2644b86d85           109805 non-null  int32  \n",
      " 31  SeasonId_2021                                      109805 non-null  int32  \n",
      " 32  SeasonId_2022                                      109805 non-null  int32  \n",
      " 33  SeasonId_2023                                      109805 non-null  int32  \n",
      " 34  Opposition Id_1d6cd83892ee4afdcd8ccd94f817b4a6     109805 non-null  int32  \n",
      " 35  Opposition Id_1d6cd83892ee4afdcd8ccd94f81ftnjhl3s  109805 non-null  int32  \n",
      " 36  Opposition Id_367ef61d2bc259e608027a8d349c933e     109805 non-null  int32  \n",
      " 37  Opposition Id_3b26834df063f9d51de216a07ec36929     109805 non-null  int32  \n",
      " 38  Opposition Id_58485e3acf60682c8fc37d9d521b3019     109805 non-null  int32  \n",
      " 39  Opposition Id_5e03a19f4d014a2220665cfd56522d35     109805 non-null  int32  \n",
      " 40  Opposition Id_837e03d56b4dba3b8a4a5425c0420abd     109805 non-null  int32  \n",
      " 41  Opposition Id_980c9c368ae4f1129ea0a6fdd711fa8f     109805 non-null  int32  \n",
      " 42  Opposition Id_a73752d38e4a78e3e14917f5435ffb6d     109805 non-null  int32  \n",
      " 43  Opposition Id_b53920c88e4eebf2faa9f4fb43b8944a     109805 non-null  int32  \n",
      " 44  Opposition Id_c03196722c1a837b39f79f1714db475d     109805 non-null  int32  \n",
      " 45  Opposition Id_c14e0139ad91a9741a5731a596aa6549     109805 non-null  int32  \n",
      " 46  Opposition Id_d3ac47d424b41fd738ec9500dbda2d59     109805 non-null  int32  \n",
      " 47  Opposition Id_dc3c7bd8148814b7c4105841baa68e23     109805 non-null  int32  \n",
      " 48  Opposition Id_f38f7f087f646c38c0207f1b2af32f12     109805 non-null  int32  \n",
      " 49  Opposition Id_fdfcde48e2cbf12cc4710a2644b86d85     109805 non-null  int32  \n",
      " 50  Half_2                                             109805 non-null  int32  \n",
      " 51  Half_3                                             109805 non-null  int32  \n",
      " 52  Half_4                                             109805 non-null  int32  \n",
      " 53  PTB Contest_Other                                  109805 non-null  int32  \n",
      " 54  PTB Contest_Stays on feet                          109805 non-null  int32  \n",
      " 55  PTB Contest_Tackled to ground                      109805 non-null  int32  \n",
      " 56  Raw Tackle Number_2.0                              109805 non-null  int32  \n",
      " 57  Raw Tackle Number_3.0                              109805 non-null  int32  \n",
      " 58  Raw Tackle Number_4.0                              109805 non-null  int32  \n",
      " 59  Raw Tackle Number_5.0                              109805 non-null  int32  \n",
      " 60  Raw Tackle Number_6.0                              109805 non-null  int32  \n",
      " 61  Raw Tackle Number_7.0                              109805 non-null  int32  \n",
      "dtypes: float64(6), int32(51), int64(5)\n",
      "memory usage: 31.4 MB\n"
     ]
    }
   ],
   "source": [
    "df_encoded = ptb_data.drop(columns = ['Anonymize 1PlayerId', 'Player Id', 'ZonePhysical', 'EventName', 'MatchId', 'Tackle', \n",
    "                                      'PositionId', 'OppScore', 'Away Score', 'Home Score', 'PTB Tackle Result', 'OfficialId', 'OppPossessionSecs',\n",
    "                                      'TotalPossessionSecs', 'ElapsedTime', 'PTB Ultimate Outcome', 'SeqNumber', 'Set', 'PTB Defence']) \n",
    "# OppPossessionSecs  Official ID\n",
    "\n",
    "df_encoded = pd.get_dummies(df_encoded, columns=['WeatherConditionName', 'Club Id', 'SeasonId', 'Opposition Id', 'Half', 'PTB Contest', \n",
    "                                                 'Raw Tackle Number'], drop_first=True)\n",
    "\n",
    "\n",
    "df_encoded = df_encoded.dropna()\n",
    "\n",
    "df_encoded[df_encoded.select_dtypes(include=['bool']).columns] = df_encoded.select_dtypes(include=['bool']).astype(int)\n",
    "\n",
    "df_encoded.info()\n"
   ]
  },
  {
   "cell_type": "markdown",
   "id": "c7521ec3-7a2b-4a49-b361-e1be3bb83096",
   "metadata": {},
   "source": [
    "# OLS"
   ]
  },
  {
   "cell_type": "code",
   "execution_count": 90,
   "id": "838d0e10-3905-45db-b3e5-5fef2179892f",
   "metadata": {},
   "outputs": [
    {
     "name": "stdout",
     "output_type": "stream",
     "text": [
      "Mean Squared Error: 0.7240801151127758\n",
      "R-squared: 0.2287697544764945\n",
      "Adjusted_r_squared: 0.22658616349912408\n",
      "                            OLS Regression Results                            \n",
      "==============================================================================\n",
      "Dep. Variable:           DurationSecs   R-squared:                       0.220\n",
      "Model:                            OLS   Adj. R-squared:                  0.220\n",
      "Method:                 Least Squares   F-statistic:                     508.3\n",
      "Date:                Wed, 20 Nov 2024   Prob (F-statistic):               0.00\n",
      "Time:                        17:03:55   Log-Likelihood:            -1.3793e+05\n",
      "No. Observations:              109805   AIC:                         2.760e+05\n",
      "Df Residuals:                  109743   BIC:                         2.766e+05\n",
      "Df Model:                          61                                         \n",
      "Covariance Type:            nonrobust                                         \n",
      "=====================================================================================================================\n",
      "                                                        coef    std err          t      P>|t|      [0.025      0.975]\n",
      "---------------------------------------------------------------------------------------------------------------------\n",
      "const                                                 3.5281      0.023    151.974      0.000       3.483       3.574\n",
      "PossessionSecs                                        0.0001   3.19e-05      3.674      0.000    5.47e-05       0.000\n",
      "Set Type                                              0.1720      0.010     16.542      0.000       0.152       0.192\n",
      "Total Involved Tacklers                               0.0745      0.004     20.269      0.000       0.067       0.082\n",
      "RoundId                                              -0.0023      0.000     -6.153      0.000      -0.003      -0.002\n",
      "RunOn                                                 0.0996      0.007     14.287      0.000       0.086       0.113\n",
      "Score                                                 0.0027      0.001      3.717      0.000       0.001       0.004\n",
      "ZonePossession                                        0.0041      0.000     15.793      0.000       0.004       0.005\n",
      "GameTime                                              0.0011      0.001      1.352      0.176      -0.000       0.003\n",
      "IsHome                                               -0.0268      0.005     -5.085      0.000      -0.037      -0.016\n",
      "CurrentMargin                                         0.0008      0.000      1.526      0.127      -0.000       0.002\n",
      "WeatherConditionName_Rain                             0.0879      0.019      4.658      0.000       0.051       0.125\n",
      "WeatherConditionName_Showers                          0.0070      0.018      0.385      0.700      -0.029       0.043\n",
      "WeatherConditionName_Snow                            -0.0911      0.037     -2.438      0.015      -0.164      -0.018\n",
      "WeatherConditionName_Unknown                          0.0261      0.007      3.617      0.000       0.012       0.040\n",
      "Club Id_1d6cd83892ee4afdcd8ccd94f817b4a6              0.0076      0.016      0.486      0.627      -0.023       0.038\n",
      "Club Id_1d6cd83892ee4afdcd8ccd94f81ftnjhl3s          -0.0534      0.026     -2.081      0.037      -0.104      -0.003\n",
      "Club Id_367ef61d2bc259e608027a8d349c933e             -0.1597      0.016    -10.198      0.000      -0.190      -0.129\n",
      "Club Id_3b26834df063f9d51de216a07ec36929              0.0358      0.015      2.374      0.018       0.006       0.065\n",
      "Club Id_58485e3acf60682c8fc37d9d521b3019              0.0521      0.016      3.261      0.001       0.021       0.083\n",
      "Club Id_5e03a19f4d014a2220665cfd56522d35             -0.0184      0.016     -1.177      0.239      -0.049       0.012\n",
      "Club Id_837e03d56b4dba3b8a4a5425c0420abd             -0.0468      0.015     -3.026      0.002      -0.077      -0.016\n",
      "Club Id_980c9c368ae4f1129ea0a6fdd711fa8f             -0.0550      0.016     -3.530      0.000      -0.086      -0.024\n",
      "Club Id_a73752d38e4a78e3e14917f5435ffb6d              0.0819      0.015      5.440      0.000       0.052       0.111\n",
      "Club Id_b53920c88e4eebf2faa9f4fb43b8944a              0.0641      0.015      4.146      0.000       0.034       0.094\n",
      "Club Id_c03196722c1a837b39f79f1714db475d             -0.0873      0.015     -5.682      0.000      -0.117      -0.057\n",
      "Club Id_c14e0139ad91a9741a5731a596aa6549              0.0746      0.016      4.748      0.000       0.044       0.105\n",
      "Club Id_d3ac47d424b41fd738ec9500dbda2d59             -0.0318      0.015     -2.082      0.037      -0.062      -0.002\n",
      "Club Id_dc3c7bd8148814b7c4105841baa68e23             -0.0782      0.015     -5.104      0.000      -0.108      -0.048\n",
      "Club Id_f38f7f087f646c38c0207f1b2af32f12             -0.1096      0.015     -7.121      0.000      -0.140      -0.079\n",
      "Club Id_fdfcde48e2cbf12cc4710a2644b86d85             -0.0445      0.016     -2.792      0.005      -0.076      -0.013\n",
      "SeasonId_2021                                         0.1948      0.008     25.263      0.000       0.180       0.210\n",
      "SeasonId_2022                                         0.2479      0.008     29.362      0.000       0.231       0.264\n",
      "SeasonId_2023                                         0.1887      0.008     22.807      0.000       0.172       0.205\n",
      "Opposition Id_1d6cd83892ee4afdcd8ccd94f817b4a6        0.0037      0.016      0.240      0.810      -0.027       0.034\n",
      "Opposition Id_1d6cd83892ee4afdcd8ccd94f81ftnjhl3s    -0.3064      0.025    -12.133      0.000      -0.356      -0.257\n",
      "Opposition Id_367ef61d2bc259e608027a8d349c933e       -0.0656      0.016     -4.196      0.000      -0.096      -0.035\n",
      "Opposition Id_3b26834df063f9d51de216a07ec36929       -0.1187      0.015     -7.815      0.000      -0.148      -0.089\n",
      "Opposition Id_58485e3acf60682c8fc37d9d521b3019       -0.0368      0.016     -2.307      0.021      -0.068      -0.006\n",
      "Opposition Id_5e03a19f4d014a2220665cfd56522d35       -0.0914      0.015     -5.912      0.000      -0.122      -0.061\n",
      "Opposition Id_837e03d56b4dba3b8a4a5425c0420abd       -0.1262      0.015     -8.186      0.000      -0.156      -0.096\n",
      "Opposition Id_980c9c368ae4f1129ea0a6fdd711fa8f       -0.0990      0.016     -6.367      0.000      -0.129      -0.069\n",
      "Opposition Id_a73752d38e4a78e3e14917f5435ffb6d       -0.1264      0.015     -8.347      0.000      -0.156      -0.097\n",
      "Opposition Id_b53920c88e4eebf2faa9f4fb43b8944a       -0.0301      0.015     -1.956      0.050      -0.060     5.8e-05\n",
      "Opposition Id_c03196722c1a837b39f79f1714db475d       -0.1210      0.015     -7.817      0.000      -0.151      -0.091\n",
      "Opposition Id_c14e0139ad91a9741a5731a596aa6549        0.0175      0.016      1.100      0.271      -0.014       0.049\n",
      "Opposition Id_d3ac47d424b41fd738ec9500dbda2d59       -0.0783      0.016     -5.021      0.000      -0.109      -0.048\n",
      "Opposition Id_dc3c7bd8148814b7c4105841baa68e23       -0.0102      0.015     -0.669      0.503      -0.040       0.020\n",
      "Opposition Id_f38f7f087f646c38c0207f1b2af32f12       -0.0119      0.015     -0.770      0.441      -0.042       0.018\n",
      "Opposition Id_fdfcde48e2cbf12cc4710a2644b86d85       -0.1000      0.016     -6.333      0.000      -0.131      -0.069\n",
      "Half_2                                               -0.0159      0.031     -0.514      0.607      -0.077       0.045\n",
      "Half_3                                               -0.2956      0.084     -3.528      0.000      -0.460      -0.131\n",
      "Half_4                                               -0.2972      0.104     -2.858      0.004      -0.501      -0.093\n",
      "PTB Contest_Other                                    -0.4691      0.347     -1.351      0.177      -1.149       0.211\n",
      "PTB Contest_Stays on feet                            -1.0728      0.012    -92.056      0.000      -1.096      -1.050\n",
      "PTB Contest_Tackled to ground                        -0.6907      0.005   -127.513      0.000      -0.701      -0.680\n",
      "Raw Tackle Number_2.0                                -0.2591      0.008    -34.012      0.000      -0.274      -0.244\n",
      "Raw Tackle Number_3.0                                -0.3450      0.008    -42.000      0.000      -0.361      -0.329\n",
      "Raw Tackle Number_4.0                                -0.3978      0.009    -43.155      0.000      -0.416      -0.380\n",
      "Raw Tackle Number_5.0                                -0.4529      0.011    -42.320      0.000      -0.474      -0.432\n",
      "Raw Tackle Number_6.0                                -0.3720      0.024    -15.421      0.000      -0.419      -0.325\n",
      "Raw Tackle Number_7.0                                -0.4225      0.207     -2.046      0.041      -0.827      -0.018\n",
      "==============================================================================\n",
      "Omnibus:                      780.427   Durbin-Watson:                   1.848\n",
      "Prob(Omnibus):                  0.000   Jarque-Bera (JB):              811.132\n",
      "Skew:                           0.193   Prob(JB):                    7.33e-177\n",
      "Kurtosis:                       3.167   Cond. No.                     1.29e+05\n",
      "==============================================================================\n",
      "\n",
      "Notes:\n",
      "[1] Standard Errors assume that the covariance matrix of the errors is correctly specified.\n",
      "[2] The condition number is large, 1.29e+05. This might indicate that there are\n",
      "strong multicollinearity or other numerical problems.\n"
     ]
    }
   ],
   "source": [
    "# RUNNING OLS WITH TRAIN TEST SPLIT\n",
    "from sklearn.model_selection import train_test_split\n",
    "import statsmodels.api as sm\n",
    "from sklearn.metrics import mean_squared_error, r2_score\n",
    "\n",
    "Y = df_encoded['DurationSecs']\n",
    "X = df_encoded.drop(['DurationSecs'],axis = 1)\n",
    "X = sm.add_constant(X)\n",
    "\n",
    "X_train, X_test, y_train, y_test = train_test_split(X, Y, test_size=0.2, random_state=37)\n",
    "\n",
    "OLS_model = sm.OLS(Y, X).fit()\n",
    "\n",
    "y_pred = OLS_model.predict(X_test)\n",
    "\n",
    "mse = mean_squared_error(y_test, y_pred)\n",
    "print(f\"Mean Squared Error: {mse}\" )\n",
    "\n",
    "r_squared = r2_score(y_test, y_pred)\n",
    "print(f\"R-squared: {r_squared}\")\n",
    "n = X_test.shape[0]  # Number of observations\n",
    "p = X_test.shape[1]  # Number of features (predictors)\n",
    "adjusted_r_squared = 1 - (1 - r_squared) * (n - 1) / (n - p - 1)\n",
    "print(f\"Adjusted_r_squared: {adjusted_r_squared}\")\n",
    "\n",
    "print(OLS_model.summary())"
   ]
  },
  {
   "cell_type": "code",
   "execution_count": 18,
   "id": "378e1b16-1544-4af4-99ee-07ff8f081a48",
   "metadata": {},
   "outputs": [
    {
     "data": {
      "image/png": "[encoded data removed]",
      "text/plain": [
       "<Figure size 640x480 with 1 Axes>"
      ]
     },
     "metadata": {},
     "output_type": "display_data"
    }
   ],
   "source": [
    "sns.boxplot(x='PTB Defence', y='DurationSecs', data=ptb_data)\n",
    "plt.title('PTB Speed by PTB Defence Distribution')\n",
    "plt.xlabel('PTB Defence')\n",
    "plt.ylabel('PTB Speed')\n",
    "plt.show()"
   ]
  },
  {
   "cell_type": "code",
   "execution_count": 64,
   "id": "108bc394-08ee-4d0e-a750-90dd8ee85492",
   "metadata": {},
   "outputs": [
    {
     "name": "stdout",
     "output_type": "stream",
     "text": [
      "Cross-Validation MSE: 0.7357459140722515\n"
     ]
    }
   ],
   "source": [
    "# RUNNING OLS WITH CROSS-VALIDATION\n",
    "\n",
    "from sklearn.model_selection import cross_val_score\n",
    "from sklearn.linear_model import LinearRegression\n",
    "from sklearn.metrics import make_scorer, mean_squared_error\n",
    "import statsmodels.api as sm\n",
    "\n",
    "Y = df_encoded['DurationSecs']\n",
    "X = df_encoded.drop(['DurationSecs'],axis = 1)\n",
    "X = sm.add_constant(X)\n",
    "\n",
    "ols_model = LinearRegression()\n",
    "\n",
    "# Perform cross-validation and get MSE scores\n",
    "cv_mses = -1 * cross_val_score(ols_model, X, Y, cv=5, scoring='neg_mean_squared_error')  # 5-fold cross-validation\n",
    "\n",
    "cv_mse = cv_mses.mean()\n",
    "\n",
    "print(\"Cross-Validation MSE:\", cv_mse)"
   ]
  },
  {
   "cell_type": "markdown",
   "id": "2cea7789-1395-4955-b1db-1ebbc080899e",
   "metadata": {},
   "source": [
    "# JOINT F TESTS FOR CATEGORICAL FEATURES:"
   ]
  },
  {
   "cell_type": "code",
   "execution_count": 92,
   "id": "ef45d7bf-aa9e-4ba6-aa4e-9fdede0f76d4",
   "metadata": {},
   "outputs": [
    {
     "name": "stdout",
     "output_type": "stream",
     "text": [
      "F-statistic: 6713.090087258544\n",
      "p-value: 0.0\n"
     ]
    }
   ],
   "source": [
    "# Add a constant to the independent variables\n",
    "X_full = sm.add_constant(X)\n",
    "X_restricted = sm.add_constant(X.loc[:, ~X.columns.str.startswith('PTB Contest')])\n",
    "\n",
    "# Fit the modelshow c\n",
    "model_full = sm.OLS(df_encoded['DurationSecs'], X_full).fit()\n",
    "model_restricted = sm.OLS(df_encoded['DurationSecs'], X_restricted).fit()\n",
    "\n",
    "f_test = model_full.compare_f_test(model_restricted)\n",
    "\n",
    "# Results\n",
    "print(\"F-statistic:\", f_test[0])\n",
    "print(\"p-value:\", f_test[1])"
   ]
  }
 ],
 "metadata": {
  "kernelspec": {
   "display_name": "Python 3 (ipykernel)",
   "language": "python",
   "name": "python3"
  },
  "language_info": {
   "codemirror_mode": {
    "name": "ipython",
    "version": 3
   },
   "file_extension": ".py",
   "mimetype": "text/x-python",
   "name": "python",
   "nbconvert_exporter": "python",
   "pygments_lexer": "ipython3",
   "version": "3.12.4"
  }
 },
 "nbformat": 4,
 "nbformat_minor": 5
}
